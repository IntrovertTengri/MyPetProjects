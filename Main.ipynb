{
 "cells": [
  {
   "cell_type": "markdown",
   "id": "700405f8",
   "metadata": {},
   "source": [
    "# Задачи по функционалу(что сделать):\n",
    "## -Управление Ютубом.\n",
    "### &emsp; -Выбор видео.\n",
    "### &emsp; -Поиск видео.\n",
    "### &emsp; -Конспект видео на определенном промежутке времени.\n",
    "### &emsp; -Фукнция рекомендации видео по похожему контенту.\n",
    "### &emsp; -Сохранение ссылки на видео.\n",
    "## -Поиск в интернете.\n",
    "### &emsp; -Открытие определенной страницы(по порядку сверху вниз).\n",
    "### &emsp; -Базовые команды scroll up, scroll down.\n",
    "## -Обновление БД.\n",
    "### &emsp; -Создание таблицы для телеграм пользователей.\n",
    "### &emsp; -Выборка человека через нажатие на строку в таблице.\n",
    "### &emsp; -Отображение таблицы(возможно через dataframe pandas) при функции выбора человека или тому подобное.\n",
    "## -Калькулятор через голосовые функции.\n",
    "## -Создание заметок.\n",
    "## -Отправка сообщения в определенное время.\n",
    "### -Сообщения последние можно получать через message_id. Ведь можно взять 3 сообщения по id. А после, взять и определять типы классов сообщений(текст, аудио, видео, изображение)."
   ]
  },
  {
   "cell_type": "markdown",
   "id": "b277627d",
   "metadata": {},
   "source": [
    "# Artificial assistent"
   ]
  },
  {
   "cell_type": "markdown",
   "id": "b9264404",
   "metadata": {},
   "source": [
    "## Capabilities:\n",
    "- Open the specific video in YouTube(maybe some operations related to it)\n",
    "- Search something in Google\n",
    "- Sending message in WhatsApp\n",
    "- Sending message in Telegram\n",
    "- Say the current time\n",
    "- Set the timer\n",
    "- Open some music from the 'Music' folder"
   ]
  },
  {
   "cell_type": "markdown",
   "id": "1ade0686",
   "metadata": {},
   "source": [
    "### Importing necessary libraries"
   ]
  },
  {
   "cell_type": "code",
   "execution_count": 15,
   "id": "eca6395b",
   "metadata": {},
   "outputs": [],
   "source": [
    "import datetime\n",
    "import speech_recognition as sr\n",
    "import pyttsx3\n",
    "import webbrowser\n",
    "import os\n",
    "import subprocess\n",
    "import selenium\n",
    "import sqlite3\n",
    "\n",
    "from selenium import webdriver\n",
    "from selenium.webdriver.edge.service import Service\n",
    "from selenium.webdriver.edge.options import Options\n",
    "from selenium.webdriver.common.keys import Keys\n",
    "from selenium.webdriver.common.by import By\n",
    "import time"
   ]
  },
  {
   "cell_type": "markdown",
   "id": "6cfc20ea",
   "metadata": {},
   "source": [
    "### Speech engine initialization"
   ]
  },
  {
   "cell_type": "code",
   "execution_count": 16,
   "id": "52998dc5",
   "metadata": {},
   "outputs": [],
   "source": [
    "engine = pyttsx3.init()\n",
    "voices = engine.getProperty('voices')\n",
    "engine.setProperty('voice', voices[1].id)"
   ]
  },
  {
   "cell_type": "markdown",
   "id": "de4ae0a7",
   "metadata": {},
   "source": [
    "#### Speaker function"
   ]
  },
  {
   "cell_type": "code",
   "execution_count": 17,
   "id": "b780691d",
   "metadata": {},
   "outputs": [],
   "source": [
    "def speaker(text, rate = 120):\n",
    "    engine.setProperty(\"rate\", rate)\n",
    "    engine.say(text)\n",
    "    engine.runAndWait()"
   ]
  },
  {
   "cell_type": "markdown",
   "id": "3d9e016c",
   "metadata": {},
   "source": [
    "#### Speech recognizer"
   ]
  },
  {
   "cell_type": "code",
   "execution_count": 18,
   "id": "0cafe83b",
   "metadata": {},
   "outputs": [],
   "source": [
    "def parse_command():\n",
    "    listener = sr.Recognizer()\n",
    "    print('loading...')\n",
    "\n",
    "    with sr.Microphone() as source:\n",
    "        listener.pause_threshold = 2\n",
    "        input = listener.listen(source)\n",
    "\n",
    "    try:\n",
    "        print('recognizing speech...')\n",
    "        query = listener.recognize_google(input, language = \"en_gb\")\n",
    "        print(f'\\nthe input speech was\\n {query}')\n",
    "    except Exception as exception:\n",
    "        print(\"I did not catch that\")\n",
    "        print(exception)\n",
    "        return None\n",
    "    return query"
   ]
  },
  {
   "cell_type": "markdown",
   "id": "a32e65e4",
   "metadata": {},
   "source": [
    "### Just some wisher() function, haha."
   ]
  },
  {
   "cell_type": "code",
   "execution_count": 19,
   "id": "3384411b",
   "metadata": {},
   "outputs": [],
   "source": [
    "def wisher():\n",
    "    hour = datetime.datetime.now().hour\n",
    "    if hour >= 5 and hour < 12:\n",
    "        speaker('Good morning, sir')\n",
    "    elif hour >= 12 and hour < 17:\n",
    "        speaker('Good afternoon, sir')\n",
    "    elif hour >= 17 and hour < 23:\n",
    "        speaker('Good evening, sir')\n",
    "    else:\n",
    "        speaker('Good night, sir') "
   ]
  },
  {
   "cell_type": "markdown",
   "id": "714fc0ce",
   "metadata": {},
   "source": [
    "### Functions for contacts"
   ]
  },
  {
   "cell_type": "markdown",
   "id": "5b2a51ca",
   "metadata": {},
   "source": [
    "#### Function for adding to contacts"
   ]
  },
  {
   "cell_type": "code",
   "execution_count": 20,
   "id": "44b03611",
   "metadata": {},
   "outputs": [],
   "source": [
    "# function for checking if the data exists in db 'contacts.db'\n",
    "def check_in_db(data, column_name):\n",
    "    conn = sqlite3.connect('./Contacts/people_data.db')\n",
    "    c = conn.cursor()\n",
    "    c.execute(f\"SELECT COUNT({column_name}) FROM people WHERE {column_name} = ?\", (data,))\n",
    "    res = c.fetchone()[0]\n",
    "    if res == 0:\n",
    "        c.close()\n",
    "        conn.close()\n",
    "        return 1\n",
    "    else:\n",
    "        c.close()\n",
    "        conn.close()\n",
    "        return 0"
   ]
  },
  {
   "cell_type": "code",
   "execution_count": 21,
   "id": "9e9d5359",
   "metadata": {},
   "outputs": [],
   "source": [
    "def add_to_contacts():\n",
    "    people_exist()\n",
    "    conn = sqlite3.connect('./Contacts/people_data.db')\n",
    "    c = conn.cursor()\n",
    "    speaker('Please, enter the following data')\n",
    "        \n",
    "    # entering person_id\n",
    "    res = 0\n",
    "    while res == 0:\n",
    "        person_id = input('Please, enter the person_id, but in the form of text:')\n",
    "        person_id = person_id.lower()\n",
    "        res = check_in_db(person_id, 'person_id')\n",
    "        if res == 0:\n",
    "            speaker('This data is already in the table')\n",
    "                \n",
    "    # entering phone_number\n",
    "    res = 0\n",
    "    while res == 0:\n",
    "        phone_number = input('Please, enter the phone number:')\n",
    "        res = check_in_db(phone_number, 'phone_number')\n",
    "        if res == 0:\n",
    "            speaker('This data is already in the table')\n",
    "                \n",
    "    # entering first_name, last_name,birthday, relation\n",
    "    first_name = input('Please, enter the first name:')\n",
    "    last_name = input('Please, enter the last name:')\n",
    "    birthday = input('Please, enter the date  of the birthday(dd-mm-yyyy):')\n",
    "    relation = input('Please, enter the relation of this person to you:')\n",
    "        \n",
    "    # inserting values into the table 'people'\n",
    "    data = (person_id, phone_number, first_name, last_name,birthday, relation)\n",
    "    c.execute(\"INSERT INTO people VALUES(?, ?, ?, ?, ?, ?)\", data)\n",
    "    conn.commit()\n",
    "    c.close()\n",
    "    conn.close()"
   ]
  },
  {
   "cell_type": "markdown",
   "id": "6b5a9181",
   "metadata": {},
   "source": [
    "#### Function for deleting from contacts"
   ]
  },
  {
   "cell_type": "code",
   "execution_count": 22,
   "id": "c331fa36",
   "metadata": {},
   "outputs": [],
   "source": [
    "def delete_from_contacts():\n",
    "    people_exist()\n",
    "    conn = sqlite3.connect('./Contacts/people_data.db', timeout = 40)\n",
    "    c = conn.cursor()\n",
    "    speaker('Please, enter the id of the person you want to remove from your contacts')\n",
    "    \n",
    "    # check if the person exists in the table\n",
    "    res = 1\n",
    "    while res == 1:\n",
    "        person_id = input('Please, enter the person_id:')\n",
    "        person_id = person_id.lower()\n",
    "        res = check_in_db(person_id, 'person_id')\n",
    "        if res == 1:\n",
    "            speaker('This person does not exist')\n",
    "            speaker('Do you want to stop? Say yes or no')\n",
    "            answer = parse_command()\n",
    "            answer = answer.lower()\n",
    "            if answer == 'yes':\n",
    "                person_id = None\n",
    "                break\n",
    "            else:\n",
    "                speaker('Enter another person')\n",
    "    \n",
    "    # deleting from contacts\n",
    "    if person_id == None:\n",
    "        return\n",
    "    c.execute(\"\"\"\n",
    "            DELETE FROM people WHERE person_id = ?\n",
    "                \"\"\", (person_id,))\n",
    "    conn.commit()\n",
    "    c.close()\n",
    "    conn.close()"
   ]
  },
  {
   "cell_type": "markdown",
   "id": "816b03c5",
   "metadata": {},
   "source": [
    "#### Update person"
   ]
  },
  {
   "cell_type": "code",
   "execution_count": 23,
   "id": "dced05ca",
   "metadata": {},
   "outputs": [],
   "source": [
    "def update_person():\n",
    "    people_exist()\n",
    "    conn = sqlite3.connect('./Contacts/people_data.db')\n",
    "    c = conn.cursor()\n",
    "    speaker('Enter the person id you want to update')\n",
    "    res = 1\n",
    "    while res == 1:\n",
    "        person_id = input('Person_id:')\n",
    "        res = check_in_db(person_id, 'person_id')\n",
    "        if res == 1:\n",
    "            speaker('Such person does not exist. Do you want to stop? Say Yes or No')\n",
    "            answer = parse_command().lower()\n",
    "            if answer == 'yes':\n",
    "                res = None\n",
    "                break\n",
    "            else:\n",
    "                speaker('Please, enter the correct person id')\n",
    "    if person_id == None:\n",
    "        return\n",
    "    while True:\n",
    "        speaker('Which column do you want to update?Please, enter this column')\n",
    "        column_name = input(\"Enter the column's name here:\")\n",
    "        speaker('Enter the value')\n",
    "        value = input(\"Enter the value here:\")\n",
    "        c.execute(f\"\"\"\n",
    "                    UPDATE people\n",
    "                    SET {column_name} = ?\n",
    "                    WHERE person_id = ?\n",
    "                    \"\"\", (value, person_id))\n",
    "        conn.commit()\n",
    "        speaker('Is that all?Enter Yes or No')\n",
    "        answer = input('Answer:').lower()\n",
    "        if answer == 'yes':\n",
    "            break\n",
    "    c.close()\n",
    "    conn.close()"
   ]
  },
  {
   "cell_type": "markdown",
   "id": "2b2f6de5",
   "metadata": {},
   "source": [
    "#### Database creator - needed for checking before main operations whether db exists or not"
   ]
  },
  {
   "cell_type": "code",
   "execution_count": 30,
   "id": "20629e2a",
   "metadata": {},
   "outputs": [],
   "source": [
    "def people_exist():\n",
    "    conn = sqlite3.connect('./Contacts/people_data.db')\n",
    "    c = conn.cursor()\n",
    "    \n",
    "    # check if table exists\n",
    "    c.execute(\" SELECT COUNT(*) FROM sqlite_master WHERE type='table' AND name='people' \")\n",
    "    if c.fetchone()[0] == 0:\n",
    "        # creating new table, since table 'people' doesn't exist\n",
    "        c.execute(\"\"\"CREATE TABLE people (\n",
    "        person_id text,\n",
    "        phone_number text,\n",
    "        first_name text,\n",
    "        last_name text,\n",
    "        birthday text,\n",
    "        relation text)\n",
    "        \"\"\")\n",
    "        conn.commit()\n",
    "    c.close()\n",
    "    conn.close()"
   ]
  },
  {
   "cell_type": "markdown",
   "id": "f1ceae2b",
   "metadata": {},
   "source": [
    "## WhatsApp and Telegram operations"
   ]
  },
  {
   "cell_type": "markdown",
   "id": "12fc3ff1",
   "metadata": {},
   "source": [
    "### Telegram operations"
   ]
  },
  {
   "cell_type": "code",
   "execution_count": 28,
   "id": "8a46ed72",
   "metadata": {},
   "outputs": [],
   "source": [
    "def init_telegram():\n",
    "    path = r\"C:\\Program Files (x86)\\msedgedriver.exe\"  # raw string to handle backslashes\n",
    "    options = Options()\n",
    "    driver = webdriver.Edge(service=Service(executable_path=path), options=options)\n",
    "    telegram = driver.get('https://web.telegram.org/a/')\n",
    "    return driver"
   ]
  },
  {
   "cell_type": "code",
   "execution_count": 29,
   "id": "9b30e39d",
   "metadata": {},
   "outputs": [],
   "source": [
    "def send_msg(driver, url, message):\n",
    "    link = driver.find_element(By.XPATH, f\"//a[@href='{url}']\")\n",
    "    link.click()\n",
    "    time.sleep(1)\n",
    "    while True:\n",
    "        try:\n",
    "            textbox = driver.find_element(By.ID, 'editable-message-text')\n",
    "            textbox.send_keys(message)\n",
    "            textbox.send_keys(Keys.RETURN)\n",
    "            break\n",
    "        except:\n",
    "            print('loading...')"
   ]
  },
  {
   "cell_type": "code",
   "execution_count": 34,
   "id": "85ce47d9",
   "metadata": {},
   "outputs": [],
   "source": [
    "def read_new_msg(driver, url):\n",
    "    link = driver.find_element(By.XPATH, f\"//a[@href='{url}']\")\n",
    "    try:\n",
    "        new_msg = link.find_element(By.CLASS_NAME, \"ChatBadge.unread\")\n",
    "        new_msg = new_msg.text\n",
    "        count = int(new_msg)\n",
    "        link.click()\n",
    "        msgs = driver.find_elements(By.CLASS_NAME, 'text-content.clearfix.with-meta')\n",
    "        for i in range(len(msgs) - count, len(msgs)):\n",
    "            print(msgs[i].text)\n",
    "    except:\n",
    "        print('No new messages')"
   ]
  },
  {
   "cell_type": "code",
   "execution_count": 13,
   "id": "5aca1676",
   "metadata": {},
   "outputs": [],
   "source": [
    "with open('./SpeechRecognition/activation_word.txt') as f:\n",
    "    activation_word = f.readline()\n",
    "f.close()"
   ]
  },
  {
   "cell_type": "markdown",
   "id": "5bb21a28",
   "metadata": {},
   "source": [
    "# MAIN BODY"
   ]
  },
  {
   "cell_type": "markdown",
   "id": "5b17d372",
   "metadata": {},
   "source": [
    "while True:\n",
    "    calling= parse_command()\n",
    "    calling = calling.lower()\n",
    "    if calling == activation_word:\n",
    "        wisher()\n",
    "        speaker('How can I help you?')\n",
    "        order = parse_command()\n",
    "        if 'add to contacts' in order:\n",
    "            add_to_contacts()\n",
    "        elif 'delete from contacts' in order:\n",
    "            delete_from_contacts()\n",
    "        elif 'update the contact' in order:\n",
    "            update_person()\n",
    "        elif 'telegram' in order:\n",
    "            speaker('opening Telegram...')\n",
    "            driver = init_telegram()\n",
    "            speaker('Log in to the telegram, please')\n",
    "            time.sleep(20)\n",
    "            speaker('What is next?')\n",
    "            order = parse_command().lower()\n",
    "            if 'send message' in order:\n",
    "                speaker('Enter the following data:')\n",
    "                url = input('To whom?:')\n",
    "                message = input('The content of the message:')\n",
    "                send_msg(driver, url, message)\n",
    "        speaker('Do you want to continue the session?')\n",
    "        answer = parse_command().lower()\n",
    "        if answer == 'no':\n",
    "            speaker('Have a good time!')\n",
    "            break\n",
    "        else:\n",
    "            continue\n",
    "            "
   ]
  }
 ],
 "metadata": {
  "kernelspec": {
   "display_name": "Python 3 (ipykernel)",
   "language": "python",
   "name": "python3"
  },
  "language_info": {
   "codemirror_mode": {
    "name": "ipython",
    "version": 3
   },
   "file_extension": ".py",
   "mimetype": "text/x-python",
   "name": "python",
   "nbconvert_exporter": "python",
   "pygments_lexer": "ipython3",
   "version": "3.11.5"
  },
  "toc": {
   "base_numbering": 1,
   "nav_menu": {},
   "number_sections": true,
   "sideBar": true,
   "skip_h1_title": false,
   "title_cell": "Table of Contents",
   "title_sidebar": "Contents",
   "toc_cell": false,
   "toc_position": {},
   "toc_section_display": true,
   "toc_window_display": false
  }
 },
 "nbformat": 4,
 "nbformat_minor": 5
}
